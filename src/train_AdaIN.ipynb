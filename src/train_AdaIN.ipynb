{
 "cells": [
  {
   "cell_type": "code",
   "execution_count": 1,
   "metadata": {},
   "outputs": [],
   "source": [
    "import sys, os, cv2, torch\n",
    "sys.path.append(f\"{os.getcwd()}\")\n",
    "from PIL import Image\n",
    "from torchvision.transforms import transforms\n",
    "from yacs.config import CfgNode as CN\n",
    "from style_transfer.networks import AdaIN, AdaINConfig\n",
    "from torchvision.utils import save_image"
   ]
  },
  {
   "cell_type": "code",
   "execution_count": 7,
   "metadata": {},
   "outputs": [],
   "source": [
    "def transform(contentPath, stylePath):\n",
    "    config = AdaINConfig.create(\"style_transfer/config/adain.yaml\")\n",
    "    config.defrost()\n",
    "    config.preserve_color = False\n",
    "    config.alpha = 1.0\n",
    "    config.save_dir = \"../.output/results\"\n",
    "    config.freeze()\n",
    "    network = AdaIN(config)\n",
    "    network.loadModel({\n",
    "        \"vgg\": \"../../../Models/AdaIN/vgg_normalised.pth\",\n",
    "        \"decoder\": \"../../../Models/AdaIN/decoder.pth\"\n",
    "    })\n",
    "    with open(contentPath, 'rb') as file:\n",
    "        content = Image.open(file)\n",
    "        content.convert(\"RGB\")\n",
    "        \n",
    "    with open(stylePath, 'rb') as file:\n",
    "        style = Image.open(file)\n",
    "        style.convert(\"RGB\")\n",
    "    \n",
    "    smallest_size = sys.maxsize\n",
    "    for val in content.size:\n",
    "        if val < smallest_size:\n",
    "            smallest_size = val\n",
    "    \n",
    "    composite = transforms.Compose([\n",
    "        transforms.ToTensor(),\n",
    "        transforms.Resize(smallest_size),\n",
    "    ])\n",
    "    \n",
    "    content = composite(content)\n",
    "    style = composite(style)\n",
    "    \n",
    "    styledImage = network.transformTo(content, style)\n",
    "\n",
    "    styledImage = styledImage[0].detach().cpu().numpy()\n",
    "    styledImage = styledImage.transpose(1,2,0)\n",
    "    styledImage = cv2.cvtColor(styledImage, cv2.COLOR_RGB2BGR)\n",
    "    cv2.imwrite(os.path.join(config.save_dir, \"test_adain.png\"), styledImage * 255)"
   ]
  },
  {
   "cell_type": "code",
   "execution_count": 8,
   "id": "2cad5b97-7589-4fd8-90de-ea55cd9a778d",
   "metadata": {},
   "outputs": [],
   "source": [
    "transform(\"../../../Datasets/custom/Photo.png\", \"../../../Datasets/custom/Style.png\")"
   ]
  }
 ],
 "metadata": {
  "kernelspec": {
   "display_name": "Python 3 (ipykernel)",
   "language": "python",
   "name": "python3"
  },
  "language_info": {
   "codemirror_mode": {
    "name": "ipython",
    "version": 3
   },
   "file_extension": ".py",
   "mimetype": "text/x-python",
   "name": "python",
   "nbconvert_exporter": "python",
   "pygments_lexer": "ipython3",
   "version": "3.9.7"
  }
 },
 "nbformat": 4,
 "nbformat_minor": 5
}
