{
 "cells": [
  {
   "cell_type": "code",
   "execution_count": 26,
   "metadata": {},
   "outputs": [],
   "source": [
    "import sys, os, cv2, torch\n",
    "sys.path.append(f\"{os.getcwd()}\")\n",
    "from PIL import Image\n",
    "from torchvision.transforms import transforms\n",
    "from yacs.config import CfgNode as CN\n",
    "from style_transfer.networks import AdaIN, AdaINConfig\n",
    "from torchvision.utils import save_image"
   ]
  },
  {
   "cell_type": "code",
   "execution_count": 27,
   "metadata": {},
   "outputs": [],
   "source": [
    "def transform(contentPath, stylePath):\n",
    "    config = AdaINConfig.create(\"style_transfer/config/adain.yaml\")\n",
    "    config.defrost()\n",
    "    config.preserve_color = False\n",
    "    config.alpha = 1.0\n",
    "    config.save_dir = \"../.output/results\"\n",
    "    config.freeze()\n",
    "    network = AdaIN(config)\n",
    "    network.loadModel({\n",
    "        \"vgg\": \"../../../Models/AdaIN/vgg_normalised.pth\",\n",
    "        \"decoder\": \"../../../Models/AdaIN/decoder.pth\"\n",
    "    })\n",
    "    with open(contentPath, 'rb') as file:\n",
    "        content = Image.open(file)\n",
    "        content.load()\n",
    "        \n",
    "    with open(stylePath, 'rb') as file:\n",
    "        style = Image.open(file)\n",
    "        style.load()\n",
    "        \n",
    "    composite = transforms.Compose([\n",
    "        transforms.ToTensor(),\n",
    "        transforms.Resize(config.content_size),\n",
    "    ])\n",
    "    \n",
    "    content = composite(content)\n",
    "    style = composite(style)\n",
    "    \n",
    "    styledImage = network.transformTo(content, style)\n",
    "\n",
    "    styledImage = styledImage[0].detach().cpu().numpy()\n",
    "    styledImage = styledImage.transpose(1,2,0)\n",
    "    styledImage = cv2.cvtColor(styledImage, cv2.COLOR_RGB2BGR)\n",
    "    cv2.imwrite(os.path.join(config.save_dir, \"test_adain.png\"), styledImage * 255)"
   ]
  },
  {
   "cell_type": "code",
   "execution_count": 28,
   "id": "2cad5b97-7589-4fd8-90de-ea55cd9a778d",
   "metadata": {},
   "outputs": [
    {
     "name": "stdout",
     "output_type": "stream",
     "text": [
      "1.0\n"
     ]
    },
    {
     "name": "stderr",
     "output_type": "stream",
     "text": [
      "d:\\UGent\\Master Industriele Wetenschappen\\Masterproef\\Repositories\\GANs_Pose_Estimation_on_Art_Collection\\.venv_win\\lib\\site-packages\\torchvision\\transforms\\functional.py:1603: UserWarning: The default value of the antialias parameter of all the resizing transforms (Resize(), RandomResizedCrop(), etc.) will change from None to True in v0.17, in order to be consistent across the PIL and Tensor backends. To suppress this warning, directly pass antialias=True (recommended, future default), antialias=None (current default, which means False for Tensors and True for PIL), or antialias=False (only works on Tensors - PIL will still use antialiasing). This also applies if you are using the inference transforms from the models weights: update the call to weights.transforms(antialias=True).\n",
      "  warnings.warn(\n"
     ]
    }
   ],
   "source": [
    "# train()\n",
    "transform(\"../../../Datasets/custom/photo.png\", \"../../../Datasets/custom/style.png\")"
   ]
  }
 ],
 "metadata": {
  "kernelspec": {
   "display_name": "Python 3 (ipykernel)",
   "language": "python",
   "name": "python3"
  },
  "language_info": {
   "codemirror_mode": {
    "name": "ipython",
    "version": 3
   },
   "file_extension": ".py",
   "mimetype": "text/x-python",
   "name": "python",
   "nbconvert_exporter": "python",
   "pygments_lexer": "ipython3",
   "version": "3.9.7"
  }
 },
 "nbformat": 4,
 "nbformat_minor": 5
}
