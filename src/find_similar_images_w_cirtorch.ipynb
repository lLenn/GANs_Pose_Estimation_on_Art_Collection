{
 "cells": [
  {
   "cell_type": "code",
   "execution_count": 1,
   "metadata": {},
   "outputs": [],
   "source": [
    "configPath = \"metric_learning/config/cirtorch.yaml\"\n",
    "modelPath = \"../../../Models/CIBR/rSfM120k-tl-resnet152-gem-w-f39cada.pth\"\n",
    "imageDatabasePath = \"../../../Datasets/coco/images/train\"\n",
    "queryImagePath = \"../../../Datasets/custom/Query.png\"\n",
    "folderToStoreResultsPath = \"../../../Datasets/custom/COCO_Cirtorch/\""
   ]
  },
  {
   "cell_type": "code",
   "execution_count": 3,
   "metadata": {},
   "outputs": [
    {
     "name": "stdout",
     "output_type": "stream",
     "text": [
      ">> Loading network\n",
      ">>>> 35560/354861 done..."
     ]
    }
   ],
   "source": [
    "import os\n",
    "import pickle\n",
    "from metric_learning.networks import CirTorch, CirTorchConfig\n",
    "\n",
    "os.environ['CUDA_VISIBLE_DEVICES'] = \"0\"\n",
    "\n",
    "config = CirTorchConfig.create(configPath)\n",
    "config.defrost()\n",
    "config.model = modelPath\n",
    "config.freeze()\n",
    "cirtorchNetwork = CirTorch(config)\n",
    "cirtorchNetwork.load()\n",
    "databasePath = os.path.join(folderToStoreResultsPath, \"database.pkl\")\n",
    "if os.path.exists(databasePath):\n",
    "    cirtorchNetwork.loadDatabase(databasePath)\n",
    "else:\n",
    "    databaseImages = [os.path.join(imageDatabasePath, file) for file in os.listdir(imageDatabasePath)]\n",
    "    cirtorchNetwork.createDatabase(databaseImages)\n",
    "    cirtorchNetwork.saveDatabase(databasePath)\n",
    "scores = cirtorchNetwork.query(queryImagePath)\n",
    "\n",
    "scoresPath = os.path.join(folderToStoreResultsPath, \"scores.pkl\")\n",
    "with open(scoresPath, 'wb') as scoresFile:\n",
    "    pickle.dump(scores, scoresFile)\n"
   ]
  },
  {
   "cell_type": "code",
   "execution_count": null,
   "metadata": {},
   "outputs": [],
   "source": [
    "import shutil\n",
    "\n",
    "scoresPath = os.path.join(folderToStoreResultsPath, \"scores.pkl\")\n",
    "with open(scoresPath, 'rb') as scoresFile:\n",
    "    scores = pickle.load(scoresFile)\n",
    "prevScore = 100\n",
    "countSameScore = 0\n",
    "for score in scores:\n",
    "    if score[1] > 0.15:\n",
    "        scoreAsInteger = int(score[1]*100)\n",
    "        if prevScore != scoreAsInteger:\n",
    "            countSameScore = 1\n",
    "        else:\n",
    "            countSameScore += 1\n",
    "        prevScore = scoreAsInteger\n",
    "        imagePath = cirtorchNetwork.images[int(score[0])]\n",
    "        shutil.copy(imagePath, os.path.join(folderToStoreResultsPath, f\"{scoreAsInteger}_{countSameScore}_{os.path.split(imagePath)[-1]}\"))"
   ]
  }
 ],
 "metadata": {
  "kernelspec": {
   "display_name": ".venv_win",
   "language": "python",
   "name": "python3"
  },
  "language_info": {
   "codemirror_mode": {
    "name": "ipython",
    "version": 3
   },
   "file_extension": ".py",
   "mimetype": "text/x-python",
   "name": "python",
   "nbconvert_exporter": "python",
   "pygments_lexer": "ipython3",
   "version": "3.9.7"
  }
 },
 "nbformat": 4,
 "nbformat_minor": 2
}
