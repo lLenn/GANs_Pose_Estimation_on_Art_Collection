{
 "cells": [
  {
   "cell_type": "code",
   "execution_count": 10,
   "metadata": {},
   "outputs": [],
   "source": [
    "configPath = \"metric_learning/config/cirtorch.yaml\"\n",
    "modelPath = \"../../../Models/CIBR/rSfM120k-tl-resnet152-gem-w-f39cada.pth\"\n",
    "imageDatabasePath = \"../../../Datasets/coco/images/train_corrected\"\n",
    "queryImagePath = \"../../../Datasets/custom/Query.png\"\n",
    "folderToStoreResultsPath = \"../../../Datasets/custom/COCO_Cirtorch/\""
   ]
  },
  {
   "cell_type": "code",
   "execution_count": 11,
   "metadata": {},
   "outputs": [
    {
     "name": "stdout",
     "output_type": "stream",
     "text": [
      ">> Loading network\n",
      ">>>> 1/1 done...\n"
     ]
    }
   ],
   "source": [
    "import os\n",
    "import pickle\n",
    "from metric_learning.networks import CirTorch, CirTorchConfig\n",
    "\n",
    "os.environ['CUDA_VISIBLE_DEVICES'] = \"0\"\n",
    "\n",
    "config = CirTorchConfig.create(configPath)\n",
    "config.defrost()\n",
    "config.model = modelPath\n",
    "config.freeze()\n",
    "cirtorchNetwork = CirTorch(config)\n",
    "cirtorchNetwork.load()\n",
    "databasePath = os.path.join(folderToStoreResultsPath, \"database.pkl\")\n",
    "if os.path.exists(databasePath):\n",
    "    cirtorchNetwork.loadDatabase(databasePath)\n",
    "else:\n",
    "    databaseImages = [os.path.join(imageDatabasePath, file) for file in os.listdir(imageDatabasePath)]\n",
    "    cirtorchNetwork.createDatabase(databaseImages)\n",
    "    cirtorchNetwork.saveDatabase(databasePath)\n",
    "scores = cirtorchNetwork.query(queryImagePath)\n",
    "\n",
    "scoresPath = os.path.join(folderToStoreResultsPath, \"scores.pkl\")\n",
    "with open(scoresPath, 'wb') as scoresFile:\n",
    "    pickle.dump(scores, scoresFile)\n"
   ]
  },
  {
   "cell_type": "code",
   "execution_count": 13,
   "metadata": {},
   "outputs": [
    {
     "ename": "KeyboardInterrupt",
     "evalue": "",
     "output_type": "error",
     "traceback": [
      "\u001b[1;31m---------------------------------------------------------------------------\u001b[0m",
      "\u001b[1;31mKeyboardInterrupt\u001b[0m                         Traceback (most recent call last)",
      "Cell \u001b[1;32mIn[13], line 17\u001b[0m\n\u001b[0;32m     15\u001b[0m prevScore \u001b[38;5;241m=\u001b[39m scoreAsInteger\n\u001b[0;32m     16\u001b[0m imagePath \u001b[38;5;241m=\u001b[39m cirtorchNetwork\u001b[38;5;241m.\u001b[39mimages[\u001b[38;5;28mint\u001b[39m(score[\u001b[38;5;241m0\u001b[39m])]\n\u001b[1;32m---> 17\u001b[0m \u001b[43mshutil\u001b[49m\u001b[38;5;241;43m.\u001b[39;49m\u001b[43mcopy\u001b[49m\u001b[43m(\u001b[49m\u001b[43mimagePath\u001b[49m\u001b[43m,\u001b[49m\u001b[43m \u001b[49m\u001b[43mos\u001b[49m\u001b[38;5;241;43m.\u001b[39;49m\u001b[43mpath\u001b[49m\u001b[38;5;241;43m.\u001b[39;49m\u001b[43mjoin\u001b[49m\u001b[43m(\u001b[49m\u001b[43mfolderToStoreResultsPath\u001b[49m\u001b[43m,\u001b[49m\u001b[43m \u001b[49m\u001b[38;5;124;43mf\u001b[39;49m\u001b[38;5;124;43m\"\u001b[39;49m\u001b[38;5;132;43;01m{\u001b[39;49;00m\u001b[43mscoreAsInteger\u001b[49m\u001b[38;5;132;43;01m}\u001b[39;49;00m\u001b[38;5;124;43m_\u001b[39;49m\u001b[38;5;132;43;01m{\u001b[39;49;00m\u001b[43mcountSameScore\u001b[49m\u001b[38;5;132;43;01m}\u001b[39;49;00m\u001b[38;5;124;43m_\u001b[39;49m\u001b[38;5;132;43;01m{\u001b[39;49;00m\u001b[43mos\u001b[49m\u001b[38;5;241;43m.\u001b[39;49m\u001b[43mpath\u001b[49m\u001b[38;5;241;43m.\u001b[39;49m\u001b[43msplit\u001b[49m\u001b[43m(\u001b[49m\u001b[43mimagePath\u001b[49m\u001b[43m)\u001b[49m\u001b[43m[\u001b[49m\u001b[38;5;241;43m-\u001b[39;49m\u001b[38;5;241;43m1\u001b[39;49m\u001b[43m]\u001b[49m\u001b[38;5;132;43;01m}\u001b[39;49;00m\u001b[38;5;124;43m\"\u001b[39;49m\u001b[43m)\u001b[49m\u001b[43m)\u001b[49m\n",
      "File \u001b[1;32m~\\AppData\\Local\\Programs\\Python\\Python39\\lib\\shutil.py:426\u001b[0m, in \u001b[0;36mcopy\u001b[1;34m(src, dst, follow_symlinks)\u001b[0m\n\u001b[0;32m    424\u001b[0m \u001b[38;5;28;01mif\u001b[39;00m os\u001b[38;5;241m.\u001b[39mpath\u001b[38;5;241m.\u001b[39misdir(dst):\n\u001b[0;32m    425\u001b[0m     dst \u001b[38;5;241m=\u001b[39m os\u001b[38;5;241m.\u001b[39mpath\u001b[38;5;241m.\u001b[39mjoin(dst, os\u001b[38;5;241m.\u001b[39mpath\u001b[38;5;241m.\u001b[39mbasename(src))\n\u001b[1;32m--> 426\u001b[0m \u001b[43mcopyfile\u001b[49m\u001b[43m(\u001b[49m\u001b[43msrc\u001b[49m\u001b[43m,\u001b[49m\u001b[43m \u001b[49m\u001b[43mdst\u001b[49m\u001b[43m,\u001b[49m\u001b[43m \u001b[49m\u001b[43mfollow_symlinks\u001b[49m\u001b[38;5;241;43m=\u001b[39;49m\u001b[43mfollow_symlinks\u001b[49m\u001b[43m)\u001b[49m\n\u001b[0;32m    427\u001b[0m copymode(src, dst, follow_symlinks\u001b[38;5;241m=\u001b[39mfollow_symlinks)\n\u001b[0;32m    428\u001b[0m \u001b[38;5;28;01mreturn\u001b[39;00m dst\n",
      "File \u001b[1;32m~\\AppData\\Local\\Programs\\Python\\Python39\\lib\\shutil.py:284\u001b[0m, in \u001b[0;36mcopyfile\u001b[1;34m(src, dst, follow_symlinks)\u001b[0m\n\u001b[0;32m    282\u001b[0m         \u001b[38;5;28;01melif\u001b[39;00m _WINDOWS \u001b[38;5;129;01mand\u001b[39;00m file_size \u001b[38;5;241m>\u001b[39m \u001b[38;5;241m0\u001b[39m:\n\u001b[0;32m    283\u001b[0m             _copyfileobj_readinto(fsrc, fdst, \u001b[38;5;28mmin\u001b[39m(file_size, COPY_BUFSIZE))\n\u001b[1;32m--> 284\u001b[0m             \u001b[38;5;28;01mreturn\u001b[39;00m dst\n\u001b[0;32m    286\u001b[0m         copyfileobj(fsrc, fdst)\n\u001b[0;32m    288\u001b[0m \u001b[38;5;66;03m# Issue 43219, raise a less confusing exception\u001b[39;00m\n",
      "\u001b[1;31mKeyboardInterrupt\u001b[0m: "
     ]
    }
   ],
   "source": [
    "import shutil\n",
    "\n",
    "scoresPath = os.path.join(folderToStoreResultsPath, \"scores.pkl\")\n",
    "with open(scoresPath, 'rb') as scoresFile:\n",
    "    scores = pickle.load(scoresFile)\n",
    "prevScore = 100\n",
    "countSameScore = 0\n",
    "for score in scores:\n",
    "    if score[1] > 0.10:\n",
    "        scoreAsInteger = int(score[1]*100)\n",
    "        if prevScore != scoreAsInteger:\n",
    "            countSameScore = 1\n",
    "        else:\n",
    "            countSameScore += 1\n",
    "        prevScore = scoreAsInteger\n",
    "        imagePath = cirtorchNetwork.images[int(score[0])]\n",
    "        shutil.copy(imagePath, os.path.join(folderToStoreResultsPath, f\"{scoreAsInteger}_{countSameScore}_{os.path.split(imagePath)[-1]}\"))"
   ]
  }
 ],
 "metadata": {
  "kernelspec": {
   "display_name": ".venv_win",
   "language": "python",
   "name": "python3"
  },
  "language_info": {
   "codemirror_mode": {
    "name": "ipython",
    "version": 3
   },
   "file_extension": ".py",
   "mimetype": "text/x-python",
   "name": "python",
   "nbconvert_exporter": "python",
   "pygments_lexer": "ipython3",
   "version": "3.9.7"
  }
 },
 "nbformat": 4,
 "nbformat_minor": 2
}
