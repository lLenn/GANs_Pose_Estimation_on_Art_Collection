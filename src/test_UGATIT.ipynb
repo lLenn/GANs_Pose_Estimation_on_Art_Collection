{
 "cells": [
  {
   "cell_type": "code",
   "execution_count": 1,
   "id": "b2338f72-fc01-4932-ba65-1a261500c506",
   "metadata": {},
   "outputs": [
    {
     "name": "stdout",
     "output_type": "stream",
     "text": [
      "env: PYTORCH_CUDA_ALLOC_CONF=max_split_size_mb:512\n"
     ]
    }
   ],
   "source": [
    "## Change this value when you get a CUDA out of memory error\n",
    "%env PYTORCH_CUDA_ALLOC_CONF max_split_size_mb:512"
   ]
  },
  {
   "cell_type": "code",
   "execution_count": 2,
   "metadata": {},
   "outputs": [],
   "source": [
    "import sys, os, cv2, torch\n",
    "sys.path.append(f\"{os.getcwd()}\")\n",
    "from PIL import Image\n",
    "from torchvision.transforms import transforms\n",
    "from yacs.config import CfgNode as CN\n",
    "from style_transfer.networks import UGATIT, UGATITConfig\n",
    "from CycleGAN.data.unaligned_dataset import UnalignedDataset"
   ]
  },
  {
   "cell_type": "code",
   "execution_count": 3,
   "id": "709ebb01-15a7-4c7d-bc50-093ca2082cf5",
   "metadata": {},
   "outputs": [],
   "source": [
    "def train():\n",
    "    config = UGATITConfig.create(\"style_transfer/config/ugatit.yaml\")\n",
    "    # Dataset\n",
    "    config.defrost()\n",
    "    config.dataset = \"BaroqueStyleTrainingSmall\"\n",
    "    config.data_dir = \"../../../Datasets/custom\"\n",
    "    config.result_dir = \".output/results\"\n",
    "    # Training\n",
    "    config.epoch = 3\n",
    "    config.iteration = 10000 # deprecated\n",
    "    config.batch_size = 1\n",
    "    config.log_freq = 1\n",
    "    config.print_freq = 1\n",
    "    config.save_freq = 1\n",
    "    # Visdom\n",
    "    config.name = \"test_ugatit\"\n",
    "    config.display_server = \"http://localhost\"\n",
    "    config.display_env = \"test\"\n",
    "    config.freeze()\n",
    "    \n",
    "    dataset_config = CN()\n",
    "    dataset_config.dataroot = os.path.join(config.data_dir, config.dataset)\n",
    "    dataset_config.phase = \"train\"\n",
    "    dataset_config.max_dataset_size = float(\"inf\")\n",
    "    dataset_config.preprocess = \"resize\"\n",
    "    dataset_config.load_size = config.img_size\n",
    "    dataset_config.no_flip = True\n",
    "    dataset_config.direction = \"AtoB\"    \n",
    "    dataset_config.input_nc = 3\n",
    "    dataset_config.output_nc = 3\n",
    "    dataset_config.serial_batches = False\n",
    "    \n",
    "    dataset = UnalignedDataset(dataset_config)\n",
    "    dataloader = torch.utils.data.DataLoader(\n",
    "        dataset,\n",
    "        batch_size=config.batch_size,\n",
    "        shuffle=True\n",
    "    )\n",
    "    \n",
    "    network = UGATIT(config)\n",
    "    network.train(dataloader)\n",
    "    \n",
    "    print(\"Finished!\")"
   ]
  },
  {
   "cell_type": "code",
   "execution_count": 4,
   "metadata": {},
   "outputs": [],
   "source": [
    "def transform(path, direction=\"AtoB\"):\n",
    "    config = UGATITConfig.create(\"src/style_transfer/config/ugatit.yaml\")\n",
    "    network = UGATIT(config)\n",
    "    network.loadModel(\"style_transfer/model\")\n",
    "    with open(path, 'rb') as file:\n",
    "        image = Image.open(file)\n",
    "        image.convert(\"RGB\")\n",
    "        \n",
    "    image = transforms.ToTensor()(image)\n",
    "    image = transforms.Resize((256, 256))(image)\n",
    "    image = transforms.Normalize(mean=(0.5, 0.5, 0.5), std=(0.5, 0.5, 0.5))(image)\n",
    "    image = torch.stack((image,))\n",
    "    image = image.to(\"cuda\")\n",
    "\n",
    "    if direction == \"AtoB\":\n",
    "        image = network.transformFromPhotographicToArtistic(image)\n",
    "    elif direction == \"BtoA\":\n",
    "        image = network.transformFromArtisticToPhotographic(image)\n",
    "    \n",
    "    image = image[0] * 0.5 + 0.5\n",
    "    image = image.detach().cpu().numpy()\n",
    "    image = image.transpose(1,2,0)\n",
    "    image = cv2.cvtColor(image, cv2.COLOR_RGB2BGR)\n",
    "    cv2.imwrite(os.path.join(config.result_dir, \"test_ugatit.png\"), image * 255.0)"
   ]
  },
  {
   "cell_type": "code",
   "execution_count": 5,
   "id": "2cad5b97-7589-4fd8-90de-ea55cd9a778d",
   "metadata": {},
   "outputs": [
    {
     "name": "stdout",
     "output_type": "stream",
     "text": [
      "\n",
      "##### Information #####\n",
      "# light :  False\n",
      "# dataset :  BaroqueStyleTrainingSmall\n",
      "# batch_size :  1\n",
      "# iteration per epoch :  10000\n",
      "\n",
      "##### Generator #####\n",
      "# residual blocks :  4\n",
      "\n",
      "##### Discriminator #####\n",
      "# discriminator layer :  6\n",
      "\n",
      "##### Weight #####\n",
      "# adv_weight :  1\n",
      "# cycle_weight :  10\n",
      "# identity_weight :  10\n",
      "# cam_weight :  1000\n"
     ]
    },
    {
     "name": "stderr",
     "output_type": "stream",
     "text": [
      "Setting up a new session...\n"
     ]
    },
    {
     "name": "stdout",
     "output_type": "stream",
     "text": [
      "training start !\n"
     ]
    },
    {
     "ename": "KeyboardInterrupt",
     "evalue": "",
     "output_type": "error",
     "traceback": [
      "\u001b[1;31m---------------------------------------------------------------------------\u001b[0m",
      "\u001b[1;31mKeyboardInterrupt\u001b[0m                         Traceback (most recent call last)",
      "\u001b[1;32md:\\UGent\\Master Industriele Wetenschappen\\Masterproef\\Repositories\\GANs_Pose_Estimation_on_Art_Collection\\src\\test_UGATIT.ipynb Cell 5\u001b[0m line \u001b[0;36m1\n\u001b[1;32m----> <a href='vscode-notebook-cell:/d%3A/UGent/Master%20Industriele%20Wetenschappen/Masterproef/Repositories/GANs_Pose_Estimation_on_Art_Collection/src/test_UGATIT.ipynb#W4sZmlsZQ%3D%3D?line=0'>1</a>\u001b[0m train()\n\u001b[0;32m      <a href='vscode-notebook-cell:/d%3A/UGent/Master%20Industriele%20Wetenschappen/Masterproef/Repositories/GANs_Pose_Estimation_on_Art_Collection/src/test_UGATIT.ipynb#W4sZmlsZQ%3D%3D?line=1'>2</a>\u001b[0m \u001b[39m# transform(\"../../Datasets/human-art/images/2D_virtual_human/oil_painting/000000000000.jpg\", \"BtoA\")\u001b[39;00m\n",
      "\u001b[1;32md:\\UGent\\Master Industriele Wetenschappen\\Masterproef\\Repositories\\GANs_Pose_Estimation_on_Art_Collection\\src\\test_UGATIT.ipynb Cell 5\u001b[0m line \u001b[0;36m4\n\u001b[0;32m     <a href='vscode-notebook-cell:/d%3A/UGent/Master%20Industriele%20Wetenschappen/Masterproef/Repositories/GANs_Pose_Estimation_on_Art_Collection/src/test_UGATIT.ipynb#W4sZmlsZQ%3D%3D?line=33'>34</a>\u001b[0m dataloader \u001b[39m=\u001b[39m torch\u001b[39m.\u001b[39mutils\u001b[39m.\u001b[39mdata\u001b[39m.\u001b[39mDataLoader(\n\u001b[0;32m     <a href='vscode-notebook-cell:/d%3A/UGent/Master%20Industriele%20Wetenschappen/Masterproef/Repositories/GANs_Pose_Estimation_on_Art_Collection/src/test_UGATIT.ipynb#W4sZmlsZQ%3D%3D?line=34'>35</a>\u001b[0m     dataset,\n\u001b[0;32m     <a href='vscode-notebook-cell:/d%3A/UGent/Master%20Industriele%20Wetenschappen/Masterproef/Repositories/GANs_Pose_Estimation_on_Art_Collection/src/test_UGATIT.ipynb#W4sZmlsZQ%3D%3D?line=35'>36</a>\u001b[0m     batch_size\u001b[39m=\u001b[39mconfig\u001b[39m.\u001b[39mbatch_size,\n\u001b[0;32m     <a href='vscode-notebook-cell:/d%3A/UGent/Master%20Industriele%20Wetenschappen/Masterproef/Repositories/GANs_Pose_Estimation_on_Art_Collection/src/test_UGATIT.ipynb#W4sZmlsZQ%3D%3D?line=36'>37</a>\u001b[0m     shuffle\u001b[39m=\u001b[39m\u001b[39mTrue\u001b[39;00m\n\u001b[0;32m     <a href='vscode-notebook-cell:/d%3A/UGent/Master%20Industriele%20Wetenschappen/Masterproef/Repositories/GANs_Pose_Estimation_on_Art_Collection/src/test_UGATIT.ipynb#W4sZmlsZQ%3D%3D?line=37'>38</a>\u001b[0m )\n\u001b[0;32m     <a href='vscode-notebook-cell:/d%3A/UGent/Master%20Industriele%20Wetenschappen/Masterproef/Repositories/GANs_Pose_Estimation_on_Art_Collection/src/test_UGATIT.ipynb#W4sZmlsZQ%3D%3D?line=39'>40</a>\u001b[0m network \u001b[39m=\u001b[39m UGATIT(config)\n\u001b[1;32m---> <a href='vscode-notebook-cell:/d%3A/UGent/Master%20Industriele%20Wetenschappen/Masterproef/Repositories/GANs_Pose_Estimation_on_Art_Collection/src/test_UGATIT.ipynb#W4sZmlsZQ%3D%3D?line=40'>41</a>\u001b[0m network\u001b[39m.\u001b[39;49mtrain(dataloader)\n\u001b[0;32m     <a href='vscode-notebook-cell:/d%3A/UGent/Master%20Industriele%20Wetenschappen/Masterproef/Repositories/GANs_Pose_Estimation_on_Art_Collection/src/test_UGATIT.ipynb#W4sZmlsZQ%3D%3D?line=42'>43</a>\u001b[0m \u001b[39mprint\u001b[39m(\u001b[39m\"\u001b[39m\u001b[39mFinished!\u001b[39m\u001b[39m\"\u001b[39m)\n",
      "File \u001b[1;32md:\\UGent\\Master Industriele Wetenschappen\\Masterproef\\Repositories\\GANs_Pose_Estimation_on_Art_Collection\\src\\style_transfer\\networks\\UGATIT.py:196\u001b[0m, in \u001b[0;36mUGATIT.train\u001b[1;34m(self, dataloader)\u001b[0m\n\u001b[0;32m    193\u001b[0m G_ad_loss_LB \u001b[39m=\u001b[39m \u001b[39mself\u001b[39m\u001b[39m.\u001b[39mmodel\u001b[39m.\u001b[39mMSE_loss(fake_LB_logit, torch\u001b[39m.\u001b[39mones_like(fake_LB_logit)\u001b[39m.\u001b[39mto(\u001b[39mself\u001b[39m\u001b[39m.\u001b[39mmodel\u001b[39m.\u001b[39mdevice))\n\u001b[0;32m    194\u001b[0m G_ad_cam_loss_LB \u001b[39m=\u001b[39m \u001b[39mself\u001b[39m\u001b[39m.\u001b[39mmodel\u001b[39m.\u001b[39mMSE_loss(fake_LB_cam_logit, torch\u001b[39m.\u001b[39mones_like(fake_LB_cam_logit)\u001b[39m.\u001b[39mto(\u001b[39mself\u001b[39m\u001b[39m.\u001b[39mmodel\u001b[39m.\u001b[39mdevice))\n\u001b[1;32m--> 196\u001b[0m G_recon_loss_A \u001b[39m=\u001b[39m \u001b[39mself\u001b[39;49m\u001b[39m.\u001b[39;49mmodel\u001b[39m.\u001b[39;49mL1_loss(fake_A2B2A, real_A)\n\u001b[0;32m    197\u001b[0m G_recon_loss_B \u001b[39m=\u001b[39m \u001b[39mself\u001b[39m\u001b[39m.\u001b[39mmodel\u001b[39m.\u001b[39mL1_loss(fake_B2A2B, real_B)\n\u001b[0;32m    199\u001b[0m G_identity_loss_A \u001b[39m=\u001b[39m \u001b[39mself\u001b[39m\u001b[39m.\u001b[39mmodel\u001b[39m.\u001b[39mL1_loss(fake_A2A, real_A)\n",
      "File \u001b[1;32md:\\UGent\\Master Industriele Wetenschappen\\Masterproef\\Repositories\\GANs_Pose_Estimation_on_Art_Collection\\.venv_win\\lib\\site-packages\\torch\\nn\\modules\\module.py:1501\u001b[0m, in \u001b[0;36mModule._call_impl\u001b[1;34m(self, *args, **kwargs)\u001b[0m\n\u001b[0;32m   1496\u001b[0m \u001b[39m# If we don't have any hooks, we want to skip the rest of the logic in\u001b[39;00m\n\u001b[0;32m   1497\u001b[0m \u001b[39m# this function, and just call forward.\u001b[39;00m\n\u001b[0;32m   1498\u001b[0m \u001b[39mif\u001b[39;00m \u001b[39mnot\u001b[39;00m (\u001b[39mself\u001b[39m\u001b[39m.\u001b[39m_backward_hooks \u001b[39mor\u001b[39;00m \u001b[39mself\u001b[39m\u001b[39m.\u001b[39m_backward_pre_hooks \u001b[39mor\u001b[39;00m \u001b[39mself\u001b[39m\u001b[39m.\u001b[39m_forward_hooks \u001b[39mor\u001b[39;00m \u001b[39mself\u001b[39m\u001b[39m.\u001b[39m_forward_pre_hooks\n\u001b[0;32m   1499\u001b[0m         \u001b[39mor\u001b[39;00m _global_backward_pre_hooks \u001b[39mor\u001b[39;00m _global_backward_hooks\n\u001b[0;32m   1500\u001b[0m         \u001b[39mor\u001b[39;00m _global_forward_hooks \u001b[39mor\u001b[39;00m _global_forward_pre_hooks):\n\u001b[1;32m-> 1501\u001b[0m     \u001b[39mreturn\u001b[39;00m forward_call(\u001b[39m*\u001b[39margs, \u001b[39m*\u001b[39m\u001b[39m*\u001b[39mkwargs)\n\u001b[0;32m   1502\u001b[0m \u001b[39m# Do not call functions when jit is used\u001b[39;00m\n\u001b[0;32m   1503\u001b[0m full_backward_hooks, non_full_backward_hooks \u001b[39m=\u001b[39m [], []\n",
      "File \u001b[1;32md:\\UGent\\Master Industriele Wetenschappen\\Masterproef\\Repositories\\GANs_Pose_Estimation_on_Art_Collection\\.venv_win\\lib\\site-packages\\torch\\nn\\modules\\loss.py:101\u001b[0m, in \u001b[0;36mL1Loss.forward\u001b[1;34m(self, input, target)\u001b[0m\n\u001b[0;32m    100\u001b[0m \u001b[39mdef\u001b[39;00m \u001b[39mforward\u001b[39m(\u001b[39mself\u001b[39m, \u001b[39minput\u001b[39m: Tensor, target: Tensor) \u001b[39m-\u001b[39m\u001b[39m>\u001b[39m Tensor:\n\u001b[1;32m--> 101\u001b[0m     \u001b[39mreturn\u001b[39;00m F\u001b[39m.\u001b[39;49ml1_loss(\u001b[39minput\u001b[39;49m, target, reduction\u001b[39m=\u001b[39;49m\u001b[39mself\u001b[39;49m\u001b[39m.\u001b[39;49mreduction)\n",
      "File \u001b[1;32md:\\UGent\\Master Industriele Wetenschappen\\Masterproef\\Repositories\\GANs_Pose_Estimation_on_Art_Collection\\.venv_win\\lib\\site-packages\\torch\\nn\\functional.py:3264\u001b[0m, in \u001b[0;36ml1_loss\u001b[1;34m(input, target, size_average, reduce, reduction)\u001b[0m\n\u001b[0;32m   3261\u001b[0m     reduction \u001b[39m=\u001b[39m _Reduction\u001b[39m.\u001b[39mlegacy_get_string(size_average, reduce)\n\u001b[0;32m   3263\u001b[0m expanded_input, expanded_target \u001b[39m=\u001b[39m torch\u001b[39m.\u001b[39mbroadcast_tensors(\u001b[39minput\u001b[39m, target)\n\u001b[1;32m-> 3264\u001b[0m \u001b[39mreturn\u001b[39;00m torch\u001b[39m.\u001b[39;49m_C\u001b[39m.\u001b[39;49m_nn\u001b[39m.\u001b[39;49ml1_loss(expanded_input, expanded_target, _Reduction\u001b[39m.\u001b[39;49mget_enum(reduction))\n",
      "\u001b[1;31mKeyboardInterrupt\u001b[0m: "
     ]
    }
   ],
   "source": [
    "train()\n",
    "# transform(\"../../Datasets/human-art/images/2D_virtual_human/oil_painting/000000000000.jpg\", \"BtoA\")"
   ]
  }
 ],
 "metadata": {
  "kernelspec": {
   "display_name": "Python 3 (ipykernel)",
   "language": "python",
   "name": "python3"
  },
  "language_info": {
   "codemirror_mode": {
    "name": "ipython",
    "version": 3
   },
   "file_extension": ".py",
   "mimetype": "text/x-python",
   "name": "python",
   "nbconvert_exporter": "python",
   "pygments_lexer": "ipython3",
   "version": "3.9.7"
  }
 },
 "nbformat": 4,
 "nbformat_minor": 5
}
