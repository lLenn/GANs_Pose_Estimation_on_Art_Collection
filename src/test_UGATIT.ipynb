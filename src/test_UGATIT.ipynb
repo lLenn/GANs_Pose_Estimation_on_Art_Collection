{
 "cells": [
  {
   "cell_type": "code",
   "execution_count": 6,
   "id": "b2338f72-fc01-4932-ba65-1a261500c506",
   "metadata": {},
   "outputs": [
    {
     "name": "stdout",
     "output_type": "stream",
     "text": [
      "env: PYTORCH_CUDA_ALLOC_CONF=max_split_size_mb:512\n"
     ]
    }
   ],
   "source": [
    "## Change this value when you get a CUDA out of memory error\n",
    "%env PYTORCH_CUDA_ALLOC_CONF max_split_size_mb:512"
   ]
  },
  {
   "cell_type": "code",
   "execution_count": 7,
   "metadata": {},
   "outputs": [],
   "source": [
    "import sys, os, cv2, torch\n",
    "sys.path.append(f\"{os.getcwd()}\")\n",
    "from PIL import Image\n",
    "from torchvision.transforms import transforms\n",
    "from yacs.config import CfgNode as CN\n",
    "from style_transfer.networks import UGATIT, UGATITConfig\n",
    "from CycleGAN.data.unaligned_dataset import UnalignedDataset"
   ]
  },
  {
   "cell_type": "code",
   "execution_count": 8,
   "id": "709ebb01-15a7-4c7d-bc50-093ca2082cf5",
   "metadata": {},
   "outputs": [],
   "source": [
    "def train():\n",
    "    config = UGATITConfig.create(\"style_transfer/config/ugatit.yaml\")\n",
    "    # Dataset\n",
    "    config.defrost()\n",
    "    config.dataset = \"BaroqueStyleTrainingSmall\"\n",
    "    config.data_dir = \"../../../Datasets/custom\"\n",
    "    config.result_dir = \".output/results\"\n",
    "    # Training\n",
    "    config.epoch = 3\n",
    "    config.iteration = 10000 # deprecated\n",
    "    config.batch_size = 1\n",
    "    config.log_freq = 1\n",
    "    config.print_freq = 1\n",
    "    config.save_freq = 1\n",
    "    # Visdom\n",
    "    config.name = \"test_ugatit\"\n",
    "    config.display_server = \"http://localhost\"\n",
    "    config.display_env = \"test\"\n",
    "    config.freeze()\n",
    "    \n",
    "    dataset_config = CN()\n",
    "    dataset_config.dataroot = os.path.join(config.data_dir, config.dataset)\n",
    "    dataset_config.phase = \"train\"\n",
    "    dataset_config.max_dataset_size = float(\"inf\")\n",
    "    dataset_config.preprocess = \"resize\"\n",
    "    dataset_config.load_size = config.img_size\n",
    "    dataset_config.no_flip = True\n",
    "    dataset_config.direction = \"AtoB\"    \n",
    "    dataset_config.input_nc = 3\n",
    "    dataset_config.output_nc = 3\n",
    "    dataset_config.serial_batches = False\n",
    "    \n",
    "    dataset = UnalignedDataset(dataset_config)\n",
    "    dataloader = torch.utils.data.DataLoader(\n",
    "        dataset,\n",
    "        batch_size=config.batch_size,\n",
    "        shuffle=True\n",
    "    )\n",
    "    \n",
    "    network = UGATIT(config)\n",
    "    network.train(dataloader)\n",
    "    \n",
    "    print(\"Finished!\")"
   ]
  },
  {
   "cell_type": "code",
   "execution_count": 9,
   "metadata": {},
   "outputs": [],
   "source": [
    "def transform(path, direction=\"AtoB\"):\n",
    "    config = UGATITConfig.create(\"src/style_transfer/config/ugatit.yaml\")\n",
    "    network = UGATIT(config)\n",
    "    network.loadModel(\"style_transfer/model\")\n",
    "    with open(path, 'rb') as file:\n",
    "        image = Image.open(file)\n",
    "        image.convert(\"RGB\")\n",
    "        \n",
    "    image = transforms.ToTensor()(image)\n",
    "    image = transforms.Resize((256, 256))(image)\n",
    "    image = transforms.Normalize(mean=(0.5, 0.5, 0.5), std=(0.5, 0.5, 0.5))(image)\n",
    "    image = torch.stack((image,))\n",
    "    image = image.to(\"cuda\")\n",
    "\n",
    "    if direction == \"AtoB\":\n",
    "        image = network.transformFromPhotographicToArtistic(image)\n",
    "    elif direction == \"BtoA\":\n",
    "        image = network.transformFromArtisticToPhotographic(image)\n",
    "    \n",
    "    image = image[0] * 0.5 + 0.5\n",
    "    image = image.detach().cpu().numpy()\n",
    "    image = image.transpose(1,2,0)\n",
    "    image = cv2.cvtColor(image, cv2.COLOR_RGB2BGR)\n",
    "    cv2.imwrite(os.path.join(config.result_dir, \"test_ugatit.png\"), image * 255.0)"
   ]
  },
  {
   "cell_type": "code",
   "execution_count": 10,
   "id": "2cad5b97-7589-4fd8-90de-ea55cd9a778d",
   "metadata": {},
   "outputs": [
    {
     "name": "stdout",
     "output_type": "stream",
     "text": [
      "\n",
      "##### Information #####\n",
      "# light :  False\n",
      "# dataset :  BaroqueStyleTrainingSmall\n",
      "# batch_size :  1\n",
      "# iteration per epoch :  10000\n",
      "\n",
      "##### Generator #####\n",
      "# residual blocks :  4\n",
      "\n",
      "##### Discriminator #####\n",
      "# discriminator layer :  6\n",
      "\n",
      "##### Weight #####\n",
      "# adv_weight :  1\n",
      "# cycle_weight :  10\n",
      "# identity_weight :  10\n",
      "# cam_weight :  1000\n"
     ]
    },
    {
     "name": "stderr",
     "output_type": "stream",
     "text": [
      "Setting up a new session...\n"
     ]
    },
    {
     "name": "stdout",
     "output_type": "stream",
     "text": [
      "training start !\n"
     ]
    }
   ],
   "source": [
    "train()\n",
    "# transform(\"../../Datasets/human-art/images/2D_virtual_human/oil_painting/000000000000.jpg\", \"BtoA\")"
   ]
  }
 ],
 "metadata": {
  "kernelspec": {
   "display_name": "Python 3 (ipykernel)",
   "language": "python",
   "name": "python3"
  },
  "language_info": {
   "codemirror_mode": {
    "name": "ipython",
    "version": 3
   },
   "file_extension": ".py",
   "mimetype": "text/x-python",
   "name": "python",
   "nbconvert_exporter": "python",
   "pygments_lexer": "ipython3",
   "version": "3.9.7"
  }
 },
 "nbformat": 4,
 "nbformat_minor": 5
}
