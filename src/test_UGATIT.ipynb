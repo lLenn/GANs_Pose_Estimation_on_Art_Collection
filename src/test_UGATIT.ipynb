{
 "cells": [
  {
   "cell_type": "code",
   "execution_count": 1,
   "id": "b2338f72-fc01-4932-ba65-1a261500c506",
   "metadata": {},
   "outputs": [
    {
     "name": "stdout",
     "output_type": "stream",
     "text": [
      "env: PYTORCH_CUDA_ALLOC_CONF=max_split_size_mb:512\n"
     ]
    }
   ],
   "source": [
    "## Change this value when you get a CUDA out of memory error\n",
    "%env PYTORCH_CUDA_ALLOC_CONF max_split_size_mb:512"
   ]
  },
  {
   "cell_type": "code",
   "execution_count": 2,
   "id": "709ebb01-15a7-4c7d-bc50-093ca2082cf5",
   "metadata": {},
   "outputs": [
    {
     "name": "stdout",
     "output_type": "stream",
     "text": [
      "d:\\UGent\\Master Industriele Wetenschappen\\Masterproef\\Repositories\\GANs_Pose_Estimation_on_Art_Collection\\src\n"
     ]
    },
    {
     "ename": "KeyboardInterrupt",
     "evalue": "",
     "output_type": "error",
     "traceback": [
      "\u001b[1;31m---------------------------------------------------------------------------\u001b[0m",
      "\u001b[1;31mKeyboardInterrupt\u001b[0m                         Traceback (most recent call last)",
      "\u001b[1;32md:\\UGent\\Master Industriele Wetenschappen\\Masterproef\\Repositories\\GANs_Pose_Estimation_on_Art_Collection\\src\\train_UGATIT.ipynb Cell 3\u001b[0m line \u001b[0;36m9\n\u001b[0;32m      <a href='vscode-notebook-cell:/d%3A/UGent/Master%20Industriele%20Wetenschappen/Masterproef/Repositories/GANs_Pose_Estimation_on_Art_Collection/src/train_UGATIT.ipynb#W2sZmlsZQ%3D%3D?line=6'>7</a>\u001b[0m config \u001b[39m=\u001b[39m UGATITConfig\u001b[39m.\u001b[39mcreate(\u001b[39m\"\u001b[39m\u001b[39mstyle_transfer/config/ugatit.yaml\u001b[39m\u001b[39m\"\u001b[39m)\n\u001b[0;32m      <a href='vscode-notebook-cell:/d%3A/UGent/Master%20Industriele%20Wetenschappen/Masterproef/Repositories/GANs_Pose_Estimation_on_Art_Collection/src/train_UGATIT.ipynb#W2sZmlsZQ%3D%3D?line=7'>8</a>\u001b[0m \u001b[39m# Dataset\u001b[39;00m\n\u001b[1;32m----> <a href='vscode-notebook-cell:/d%3A/UGent/Master%20Industriele%20Wetenschappen/Masterproef/Repositories/GANs_Pose_Estimation_on_Art_Collection/src/train_UGATIT.ipynb#W2sZmlsZQ%3D%3D?line=8'>9</a>\u001b[0m config\u001b[39m.\u001b[39mdefrost()\n\u001b[0;32m     <a href='vscode-notebook-cell:/d%3A/UGent/Master%20Industriele%20Wetenschappen/Masterproef/Repositories/GANs_Pose_Estimation_on_Art_Collection/src/train_UGATIT.ipynb#W2sZmlsZQ%3D%3D?line=9'>10</a>\u001b[0m config\u001b[39m.\u001b[39mdataset \u001b[39m=\u001b[39m \u001b[39m\"\u001b[39m\u001b[39mBaroqueStyleTraining\u001b[39m\u001b[39m\"\u001b[39m\n\u001b[0;32m     <a href='vscode-notebook-cell:/d%3A/UGent/Master%20Industriele%20Wetenschappen/Masterproef/Repositories/GANs_Pose_Estimation_on_Art_Collection/src/train_UGATIT.ipynb#W2sZmlsZQ%3D%3D?line=10'>11</a>\u001b[0m config\u001b[39m.\u001b[39mdata_dir \u001b[39m=\u001b[39m \u001b[39m\"\u001b[39m\u001b[39m../../Datasets\u001b[39m\u001b[39m\"\u001b[39m\n",
      "\u001b[1;32md:\\UGent\\Master Industriele Wetenschappen\\Masterproef\\Repositories\\GANs_Pose_Estimation_on_Art_Collection\\src\\train_UGATIT.ipynb Cell 3\u001b[0m line \u001b[0;36m9\n\u001b[0;32m      <a href='vscode-notebook-cell:/d%3A/UGent/Master%20Industriele%20Wetenschappen/Masterproef/Repositories/GANs_Pose_Estimation_on_Art_Collection/src/train_UGATIT.ipynb#W2sZmlsZQ%3D%3D?line=6'>7</a>\u001b[0m config \u001b[39m=\u001b[39m UGATITConfig\u001b[39m.\u001b[39mcreate(\u001b[39m\"\u001b[39m\u001b[39mstyle_transfer/config/ugatit.yaml\u001b[39m\u001b[39m\"\u001b[39m)\n\u001b[0;32m      <a href='vscode-notebook-cell:/d%3A/UGent/Master%20Industriele%20Wetenschappen/Masterproef/Repositories/GANs_Pose_Estimation_on_Art_Collection/src/train_UGATIT.ipynb#W2sZmlsZQ%3D%3D?line=7'>8</a>\u001b[0m \u001b[39m# Dataset\u001b[39;00m\n\u001b[1;32m----> <a href='vscode-notebook-cell:/d%3A/UGent/Master%20Industriele%20Wetenschappen/Masterproef/Repositories/GANs_Pose_Estimation_on_Art_Collection/src/train_UGATIT.ipynb#W2sZmlsZQ%3D%3D?line=8'>9</a>\u001b[0m config\u001b[39m.\u001b[39mdefrost()\n\u001b[0;32m     <a href='vscode-notebook-cell:/d%3A/UGent/Master%20Industriele%20Wetenschappen/Masterproef/Repositories/GANs_Pose_Estimation_on_Art_Collection/src/train_UGATIT.ipynb#W2sZmlsZQ%3D%3D?line=9'>10</a>\u001b[0m config\u001b[39m.\u001b[39mdataset \u001b[39m=\u001b[39m \u001b[39m\"\u001b[39m\u001b[39mBaroqueStyleTraining\u001b[39m\u001b[39m\"\u001b[39m\n\u001b[0;32m     <a href='vscode-notebook-cell:/d%3A/UGent/Master%20Industriele%20Wetenschappen/Masterproef/Repositories/GANs_Pose_Estimation_on_Art_Collection/src/train_UGATIT.ipynb#W2sZmlsZQ%3D%3D?line=10'>11</a>\u001b[0m config\u001b[39m.\u001b[39mdata_dir \u001b[39m=\u001b[39m \u001b[39m\"\u001b[39m\u001b[39m../../Datasets\u001b[39m\u001b[39m\"\u001b[39m\n",
      "File \u001b[1;32m_pydevd_bundle/pydevd_cython.pyx:1457\u001b[0m, in \u001b[0;36m_pydevd_bundle.pydevd_cython.SafeCallWrapper.__call__\u001b[1;34m()\u001b[0m\n",
      "File \u001b[1;32m_pydevd_bundle/pydevd_cython.pyx:701\u001b[0m, in \u001b[0;36m_pydevd_bundle.pydevd_cython.PyDBFrame.trace_dispatch\u001b[1;34m()\u001b[0m\n",
      "File \u001b[1;32m_pydevd_bundle/pydevd_cython.pyx:1395\u001b[0m, in \u001b[0;36m_pydevd_bundle.pydevd_cython.PyDBFrame.trace_dispatch\u001b[1;34m()\u001b[0m\n",
      "File \u001b[1;32m_pydevd_bundle/pydevd_cython.pyx:1344\u001b[0m, in \u001b[0;36m_pydevd_bundle.pydevd_cython.PyDBFrame.trace_dispatch\u001b[1;34m()\u001b[0m\n",
      "File \u001b[1;32m_pydevd_bundle/pydevd_cython.pyx:312\u001b[0m, in \u001b[0;36m_pydevd_bundle.pydevd_cython.PyDBFrame.do_wait_suspend\u001b[1;34m()\u001b[0m\n",
      "File \u001b[1;32md:\\UGent\\Master Industriele Wetenschappen\\Masterproef\\Repositories\\GANs_Pose_Estimation_on_Art_Collection\\.venv_win\\lib\\site-packages\\debugpy\\_vendored\\pydevd\\pydevd.py:2070\u001b[0m, in \u001b[0;36mPyDB.do_wait_suspend\u001b[1;34m(self, thread, frame, event, arg, exception_type)\u001b[0m\n\u001b[0;32m   2067\u001b[0m             from_this_thread\u001b[39m.\u001b[39mappend(frame_custom_thread_id)\n\u001b[0;32m   2069\u001b[0m     \u001b[39mwith\u001b[39;00m \u001b[39mself\u001b[39m\u001b[39m.\u001b[39m_threads_suspended_single_notification\u001b[39m.\u001b[39mnotify_thread_suspended(thread_id, thread, stop_reason):\n\u001b[1;32m-> 2070\u001b[0m         keep_suspended \u001b[39m=\u001b[39m \u001b[39mself\u001b[39;49m\u001b[39m.\u001b[39;49m_do_wait_suspend(thread, frame, event, arg, suspend_type, from_this_thread, frames_tracker)\n\u001b[0;32m   2072\u001b[0m frames_list \u001b[39m=\u001b[39m \u001b[39mNone\u001b[39;00m\n\u001b[0;32m   2074\u001b[0m \u001b[39mif\u001b[39;00m keep_suspended:\n\u001b[0;32m   2075\u001b[0m     \u001b[39m# This means that we should pause again after a set next statement.\u001b[39;00m\n",
      "File \u001b[1;32md:\\UGent\\Master Industriele Wetenschappen\\Masterproef\\Repositories\\GANs_Pose_Estimation_on_Art_Collection\\.venv_win\\lib\\site-packages\\debugpy\\_vendored\\pydevd\\pydevd.py:2106\u001b[0m, in \u001b[0;36mPyDB._do_wait_suspend\u001b[1;34m(self, thread, frame, event, arg, suspend_type, from_this_thread, frames_tracker)\u001b[0m\n\u001b[0;32m   2103\u001b[0m         \u001b[39mself\u001b[39m\u001b[39m.\u001b[39m_call_input_hook()\n\u001b[0;32m   2105\u001b[0m     \u001b[39mself\u001b[39m\u001b[39m.\u001b[39mprocess_internal_commands()\n\u001b[1;32m-> 2106\u001b[0m     time\u001b[39m.\u001b[39;49msleep(\u001b[39m0.01\u001b[39;49m)\n\u001b[0;32m   2108\u001b[0m \u001b[39mself\u001b[39m\u001b[39m.\u001b[39mcancel_async_evaluation(get_current_thread_id(thread), \u001b[39mstr\u001b[39m(\u001b[39mid\u001b[39m(frame)))\n\u001b[0;32m   2110\u001b[0m \u001b[39m# process any stepping instructions\u001b[39;00m\n",
      "\u001b[1;31mKeyboardInterrupt\u001b[0m: "
     ]
    }
   ],
   "source": [
    "import sys\n",
    "import os\n",
    "sys.path.append(f\"{os.getcwd()}/src\")\n",
    "print(os.getcwd())\n",
    "from style_transfer.networks import UGATIT, UGATITConfig\n",
    "\n",
    "def train():\n",
    "    config = UGATITConfig.create(\"style_transfer/config/ugatit.yaml\")\n",
    "    # Dataset\n",
    "    config.defrost()\n",
    "    config.dataset = \"BaroqueStyleTraining\"\n",
    "    config.data_dir = \"../../Datasets\"\n",
    "    config.result_dir = \"../../Results\"\n",
    "    # Training\n",
    "    config.iteration = 1000000\n",
    "    config.batch_size = 1\n",
    "    config.print_freq = 1000\n",
    "    config.save_freq = 1000\n",
    "    config.freeze()\n",
    "    network = UGATIT(config)\n",
    "    network.train()\n",
    "    print(\"Finished!\")"
   ]
  },
  {
   "cell_type": "code",
   "execution_count": null,
   "metadata": {},
   "outputs": [],
   "source": [
    "import cv2\n",
    "from PIL import Image\n",
    "import torch\n",
    "from torchvision.transforms import transforms\n",
    "\n",
    "def transform(path, direction=\"AtoB\"):\n",
    "    config = UGATITConfig.create(\"src/style_transfer/config/ugatit.yaml\")\n",
    "    network = UGATIT(config)\n",
    "    network.loadModel(\"style_transfer/model\")\n",
    "    with open(path, 'rb') as file:\n",
    "        image = Image.open(file)\n",
    "        image.convert(\"RGB\")\n",
    "        \n",
    "    image = transforms.ToTensor()(image)\n",
    "    image = transforms.Resize((256, 256))(image)\n",
    "    image = transforms.Normalize(mean=(0.5, 0.5, 0.5), std=(0.5, 0.5, 0.5))(image)\n",
    "    image = torch.stack((image,))\n",
    "    image = image.to(\"cuda\")\n",
    "\n",
    "    if direction == \"AtoB\":        \n",
    "        image = network.transformFromPhotographicToArtistic(image)\n",
    "    elif direction == \"BtoA\":\n",
    "        image = network.transformFromArtisticToPhotographic(image)\n",
    "    \n",
    "    image = image[0] * 0.5 + 0.5\n",
    "    image = image.detach().cpu().numpy()\n",
    "    image = image.transpose(1,2,0)\n",
    "    image = cv2.cvtColor(image, cv2.COLOR_RGB2BGR)\n",
    "    cv2.imwrite(os.path.join(config.result_dir, \"test_ugatit.png\"), image * 255.0)"
   ]
  },
  {
   "cell_type": "code",
   "execution_count": null,
   "id": "2cad5b97-7589-4fd8-90de-ea55cd9a778d",
   "metadata": {},
   "outputs": [],
   "source": [
    "train()\n",
    "# transform(\"../../Datasets/human-art/images/2D_virtual_human/oil_painting/000000000000.jpg\", \"BtoA\")"
   ]
  }
 ],
 "metadata": {
  "kernelspec": {
   "display_name": "Python 3 (ipykernel)",
   "language": "python",
   "name": "python3"
  },
  "language_info": {
   "codemirror_mode": {
    "name": "ipython",
    "version": 3
   },
   "file_extension": ".py",
   "mimetype": "text/x-python",
   "name": "python",
   "nbconvert_exporter": "python",
   "pygments_lexer": "ipython3",
   "version": "3.9.7"
  }
 },
 "nbformat": 4,
 "nbformat_minor": 5
}
