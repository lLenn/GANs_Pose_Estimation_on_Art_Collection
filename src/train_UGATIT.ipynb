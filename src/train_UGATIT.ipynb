{
 "cells": [
  {
   "cell_type": "code",
   "execution_count": 6,
   "id": "b2338f72-fc01-4932-ba65-1a261500c506",
   "metadata": {},
   "outputs": [
    {
     "name": "stdout",
     "output_type": "stream",
     "text": [
      "env: PYTORCH_CUDA_ALLOC_CONF=max_split_size_mb:512\n"
     ]
    }
   ],
   "source": [
    "## Change this value when you get a CUDA out of memory error\n",
    "%env PYTORCH_CUDA_ALLOC_CONF max_split_size_mb:512"
   ]
  },
  {
   "cell_type": "code",
   "execution_count": 7,
   "metadata": {},
   "outputs": [],
   "source": [
    "import sys, os, cv2, torch\n",
    "sys.path.append(f\"{os.getcwd()}\")\n",
    "from PIL import Image\n",
    "from torchvision.transforms import transforms\n",
    "from yacs.config import CfgNode as CN\n",
    "from style_transfer.networks import UGATIT, UGATITConfig\n",
    "from CycleGAN.data.unaligned_dataset import UnalignedDataset"
   ]
  },
  {
   "cell_type": "code",
   "execution_count": 8,
   "id": "709ebb01-15a7-4c7d-bc50-093ca2082cf5",
   "metadata": {},
   "outputs": [],
   "source": [
    "def train():\n",
    "    config = UGATITConfig.create(\"style_transfer/config/ugatit.yaml\")\n",
    "    # Dataset\n",
    "    config.defrost()\n",
    "    config.dataset = \"BaroqueStyleTraining\"\n",
    "    config.data_dir = \"../../Datasets\"\n",
    "    config.result_dir = \"../../Results\"\n",
    "    # Training\n",
    "    config.epoch = 2000\n",
    "    config.iteration = 10000 # deprecated\n",
    "    config.batch_size = 1\n",
    "    config.log_freq = 1000\n",
    "    config.print_freq = 1000\n",
    "    config.save_freq = 10000\n",
    "    # Visdom\n",
    "    config.name = \"baroque_ugatit\"\n",
    "    config.display_server = \"http://116.203.134.130/\"\n",
    "    config.display_env = \"baroque_ugatit\"\n",
    "    config.freeze()\n",
    "    \n",
    "    dataset_config = CN()\n",
    "    dataset_config.dataroot = os.path.join(config.data_dir, config.dataset)\n",
    "    dataset_config.phase = \"train\"\n",
    "    dataset_config.max_dataset_size = float(\"inf\")\n",
    "    dataset_config.preprocess = \"resize\"\n",
    "    dataset_config.load_size = config.img_size\n",
    "    dataset_config.no_flip = True\n",
    "    dataset_config.direction = \"AtoB\"    \n",
    "    dataset_config.input_nc = 3\n",
    "    dataset_config.output_nc = 3\n",
    "    dataset_config.serial_batches = False\n",
    "    \n",
    "    dataset = UnalignedDataset(dataset_config)\n",
    "    dataloader = torch.utils.data.DataLoader(\n",
    "        dataset,\n",
    "        batch_size=config.batch_size,\n",
    "        shuffle=True\n",
    "    )\n",
    "    print(len(dataloader))\n",
    "    \n",
    "    network = UGATIT(config)\n",
    "    network.train(dataloader)\n",
    "    \n",
    "    print(\"Finished!\")"
   ]
  },
  {
   "cell_type": "code",
   "execution_count": 9,
   "metadata": {},
   "outputs": [],
   "source": [
    "def transform(path, direction=\"AtoB\"):\n",
    "    config = UGATITConfig.create(\"style_transfer/config/ugatit.yaml\")\n",
    "    network = UGATIT(config)\n",
    "    network.loadModel(\"style_transfer/model\")\n",
    "    with open(path, 'rb') as file:\n",
    "        image = Image.open(file)\n",
    "        image.convert(\"RGB\")\n",
    "        \n",
    "    image = transforms.ToTensor()(image)\n",
    "    image = transforms.Resize((256, 256))(image)\n",
    "    image = transforms.Normalize(mean=(0.5, 0.5, 0.5), std=(0.5, 0.5, 0.5))(image)\n",
    "    image = torch.stack((image,))\n",
    "    image = image.to(\"cuda\")\n",
    "\n",
    "    if direction == \"AtoB\":\n",
    "        image = network.artisticToPhotographic(image)\n",
    "    elif direction == \"BtoA\":\n",
    "        image = network.photographicToArtistic(image)\n",
    "    \n",
    "    image = image[0] * 0.5 + 0.5\n",
    "    image = image.detach().cpu().numpy()\n",
    "    image = image.transpose(1,2,0)\n",
    "    image = cv2.cvtColor(image, cv2.COLOR_RGB2BGR)\n",
    "    cv2.imwrite(os.path.join(config.result_dir, \"test_ugatit.png\"), image * 255.0)"
   ]
  },
  {
   "cell_type": "code",
   "execution_count": 10,
   "id": "2cad5b97-7589-4fd8-90de-ea55cd9a778d",
   "metadata": {},
   "outputs": [
    {
     "name": "stdout",
     "output_type": "stream",
     "text": [
      "\n",
      "##### Information #####\n",
      "# light :  False\n",
      "# dataset :  BaroqueStyleTraining\n",
      "# batch_size :  1\n",
      "# iteration per epoch :  10000\n",
      "\n",
      "##### Generator #####\n",
      "# residual blocks :  4\n",
      "\n",
      "##### Discriminator #####\n",
      "# discriminator layer :  6\n",
      "\n",
      "##### Weight #####\n",
      "# adv_weight :  1\n",
      "# cycle_weight :  10\n",
      "# identity_weight :  10\n",
      "# cam_weight :  1000\n"
     ]
    },
    {
     "ename": "FileNotFoundError",
     "evalue": "[Errno 2] No such file or directory: 'style_transfer/model'",
     "output_type": "error",
     "traceback": [
      "\u001b[1;31m---------------------------------------------------------------------------\u001b[0m",
      "\u001b[1;31mFileNotFoundError\u001b[0m                         Traceback (most recent call last)",
      "\u001b[1;32md:\\UGent\\Master Industriele Wetenschappen\\Masterproef\\Repositories\\GANs_Pose_Estimation_on_Art_Collection\\src\\test_UGATIT.ipynb Cell 5\u001b[0m line \u001b[0;36m2\n\u001b[0;32m      <a href='vscode-notebook-cell:/d%3A/UGent/Master%20Industriele%20Wetenschappen/Masterproef/Repositories/GANs_Pose_Estimation_on_Art_Collection/src/test_UGATIT.ipynb#W4sZmlsZQ%3D%3D?line=0'>1</a>\u001b[0m \u001b[39m# train()\u001b[39;00m\n\u001b[1;32m----> <a href='vscode-notebook-cell:/d%3A/UGent/Master%20Industriele%20Wetenschappen/Masterproef/Repositories/GANs_Pose_Estimation_on_Art_Collection/src/test_UGATIT.ipynb#W4sZmlsZQ%3D%3D?line=1'>2</a>\u001b[0m transform(\u001b[39m\"\u001b[39;49m\u001b[39m../../Datasets/human-art/images/2D_virtual_human/oil_painting/000000000000.jpg\u001b[39;49m\u001b[39m\"\u001b[39;49m, \u001b[39m\"\u001b[39;49m\u001b[39mBtoA\u001b[39;49m\u001b[39m\"\u001b[39;49m)\n",
      "\u001b[1;32md:\\UGent\\Master Industriele Wetenschappen\\Masterproef\\Repositories\\GANs_Pose_Estimation_on_Art_Collection\\src\\test_UGATIT.ipynb Cell 5\u001b[0m line \u001b[0;36m4\n\u001b[0;32m      <a href='vscode-notebook-cell:/d%3A/UGent/Master%20Industriele%20Wetenschappen/Masterproef/Repositories/GANs_Pose_Estimation_on_Art_Collection/src/test_UGATIT.ipynb#W4sZmlsZQ%3D%3D?line=1'>2</a>\u001b[0m config \u001b[39m=\u001b[39m UGATITConfig\u001b[39m.\u001b[39mcreate(\u001b[39m\"\u001b[39m\u001b[39mstyle_transfer/config/ugatit.yaml\u001b[39m\u001b[39m\"\u001b[39m)\n\u001b[0;32m      <a href='vscode-notebook-cell:/d%3A/UGent/Master%20Industriele%20Wetenschappen/Masterproef/Repositories/GANs_Pose_Estimation_on_Art_Collection/src/test_UGATIT.ipynb#W4sZmlsZQ%3D%3D?line=2'>3</a>\u001b[0m network \u001b[39m=\u001b[39m UGATIT(config)\n\u001b[1;32m----> <a href='vscode-notebook-cell:/d%3A/UGent/Master%20Industriele%20Wetenschappen/Masterproef/Repositories/GANs_Pose_Estimation_on_Art_Collection/src/test_UGATIT.ipynb#W4sZmlsZQ%3D%3D?line=3'>4</a>\u001b[0m network\u001b[39m.\u001b[39;49mloadModel(\u001b[39m\"\u001b[39;49m\u001b[39mstyle_transfer/model\u001b[39;49m\u001b[39m\"\u001b[39;49m)\n\u001b[0;32m      <a href='vscode-notebook-cell:/d%3A/UGent/Master%20Industriele%20Wetenschappen/Masterproef/Repositories/GANs_Pose_Estimation_on_Art_Collection/src/test_UGATIT.ipynb#W4sZmlsZQ%3D%3D?line=4'>5</a>\u001b[0m \u001b[39mwith\u001b[39;00m \u001b[39mopen\u001b[39m(path, \u001b[39m'\u001b[39m\u001b[39mrb\u001b[39m\u001b[39m'\u001b[39m) \u001b[39mas\u001b[39;00m file:\n\u001b[0;32m      <a href='vscode-notebook-cell:/d%3A/UGent/Master%20Industriele%20Wetenschappen/Masterproef/Repositories/GANs_Pose_Estimation_on_Art_Collection/src/test_UGATIT.ipynb#W4sZmlsZQ%3D%3D?line=5'>6</a>\u001b[0m     image \u001b[39m=\u001b[39m Image\u001b[39m.\u001b[39mopen(file)\n",
      "File \u001b[1;32md:\\UGent\\Master Industriele Wetenschappen\\Masterproef\\Repositories\\GANs_Pose_Estimation_on_Art_Collection\\src\\style_transfer\\networks\\UGATIT.py:43\u001b[0m, in \u001b[0;36mUGATIT.loadModel\u001b[1;34m(self, path)\u001b[0m\n\u001b[0;32m     41\u001b[0m     params \u001b[39m=\u001b[39m torch\u001b[39m.\u001b[39mload(\u001b[39mself\u001b[39m\u001b[39m.\u001b[39mconfig\u001b[39m.\u001b[39mmodel_path)\n\u001b[0;32m     42\u001b[0m \u001b[39melse\u001b[39;00m:\n\u001b[1;32m---> 43\u001b[0m     params \u001b[39m=\u001b[39m torch\u001b[39m.\u001b[39;49mload(path)\n\u001b[0;32m     44\u001b[0m \u001b[39mself\u001b[39m\u001b[39m.\u001b[39mmodel\u001b[39m.\u001b[39mgenA2B\u001b[39m.\u001b[39mload_state_dict(params[\u001b[39m'\u001b[39m\u001b[39mgenA2B\u001b[39m\u001b[39m'\u001b[39m])\n\u001b[0;32m     45\u001b[0m \u001b[39mself\u001b[39m\u001b[39m.\u001b[39mmodel\u001b[39m.\u001b[39mgenB2A\u001b[39m.\u001b[39mload_state_dict(params[\u001b[39m'\u001b[39m\u001b[39mgenB2A\u001b[39m\u001b[39m'\u001b[39m])\n",
      "File \u001b[1;32md:\\UGent\\Master Industriele Wetenschappen\\Masterproef\\Repositories\\GANs_Pose_Estimation_on_Art_Collection\\.venv_win\\lib\\site-packages\\torch\\serialization.py:791\u001b[0m, in \u001b[0;36mload\u001b[1;34m(f, map_location, pickle_module, weights_only, **pickle_load_args)\u001b[0m\n\u001b[0;32m    788\u001b[0m \u001b[39mif\u001b[39;00m \u001b[39m'\u001b[39m\u001b[39mencoding\u001b[39m\u001b[39m'\u001b[39m \u001b[39mnot\u001b[39;00m \u001b[39min\u001b[39;00m pickle_load_args\u001b[39m.\u001b[39mkeys():\n\u001b[0;32m    789\u001b[0m     pickle_load_args[\u001b[39m'\u001b[39m\u001b[39mencoding\u001b[39m\u001b[39m'\u001b[39m] \u001b[39m=\u001b[39m \u001b[39m'\u001b[39m\u001b[39mutf-8\u001b[39m\u001b[39m'\u001b[39m\n\u001b[1;32m--> 791\u001b[0m \u001b[39mwith\u001b[39;00m _open_file_like(f, \u001b[39m'\u001b[39;49m\u001b[39mrb\u001b[39;49m\u001b[39m'\u001b[39;49m) \u001b[39mas\u001b[39;00m opened_file:\n\u001b[0;32m    792\u001b[0m     \u001b[39mif\u001b[39;00m _is_zipfile(opened_file):\n\u001b[0;32m    793\u001b[0m         \u001b[39m# The zipfile reader is going to advance the current file position.\u001b[39;00m\n\u001b[0;32m    794\u001b[0m         \u001b[39m# If we want to actually tail call to torch.jit.load, we need to\u001b[39;00m\n\u001b[0;32m    795\u001b[0m         \u001b[39m# reset back to the original position.\u001b[39;00m\n\u001b[0;32m    796\u001b[0m         orig_position \u001b[39m=\u001b[39m opened_file\u001b[39m.\u001b[39mtell()\n",
      "File \u001b[1;32md:\\UGent\\Master Industriele Wetenschappen\\Masterproef\\Repositories\\GANs_Pose_Estimation_on_Art_Collection\\.venv_win\\lib\\site-packages\\torch\\serialization.py:271\u001b[0m, in \u001b[0;36m_open_file_like\u001b[1;34m(name_or_buffer, mode)\u001b[0m\n\u001b[0;32m    269\u001b[0m \u001b[39mdef\u001b[39;00m \u001b[39m_open_file_like\u001b[39m(name_or_buffer, mode):\n\u001b[0;32m    270\u001b[0m     \u001b[39mif\u001b[39;00m _is_path(name_or_buffer):\n\u001b[1;32m--> 271\u001b[0m         \u001b[39mreturn\u001b[39;00m _open_file(name_or_buffer, mode)\n\u001b[0;32m    272\u001b[0m     \u001b[39melse\u001b[39;00m:\n\u001b[0;32m    273\u001b[0m         \u001b[39mif\u001b[39;00m \u001b[39m'\u001b[39m\u001b[39mw\u001b[39m\u001b[39m'\u001b[39m \u001b[39min\u001b[39;00m mode:\n",
      "File \u001b[1;32md:\\UGent\\Master Industriele Wetenschappen\\Masterproef\\Repositories\\GANs_Pose_Estimation_on_Art_Collection\\.venv_win\\lib\\site-packages\\torch\\serialization.py:252\u001b[0m, in \u001b[0;36m_open_file.__init__\u001b[1;34m(self, name, mode)\u001b[0m\n\u001b[0;32m    251\u001b[0m \u001b[39mdef\u001b[39;00m \u001b[39m__init__\u001b[39m(\u001b[39mself\u001b[39m, name, mode):\n\u001b[1;32m--> 252\u001b[0m     \u001b[39msuper\u001b[39m()\u001b[39m.\u001b[39m\u001b[39m__init__\u001b[39m(\u001b[39mopen\u001b[39;49m(name, mode))\n",
      "\u001b[1;31mFileNotFoundError\u001b[0m: [Errno 2] No such file or directory: 'style_transfer/model'"
     ]
    },
    {
     "ename": "",
     "evalue": "",
     "output_type": "error",
     "traceback": [
      "\u001b[1;31mThe Kernel crashed while executing code in the the current cell or a previous cell. Please review the code in the cell(s) to identify a possible cause of the failure. Click <a href='https://aka.ms/vscodeJupyterKernelCrash'>here</a> for more info. View Jupyter <a href='command:jupyter.viewOutput'>log</a> for further details."
     ]
    }
   ],
   "source": [
    "# train()\n",
    "transform(\"../../Datasets/human-art/images/2D_virtual_human/oil_painting/000000000000.jpg\", \"BtoA\")"
   ]
  }
 ],
 "metadata": {
  "kernelspec": {
   "display_name": "Python 3 (ipykernel)",
   "language": "python",
   "name": "python3"
  },
  "language_info": {
   "codemirror_mode": {
    "name": "ipython",
    "version": 3
   },
   "file_extension": ".py",
   "mimetype": "text/x-python",
   "name": "python",
   "nbconvert_exporter": "python",
   "pygments_lexer": "ipython3",
   "version": "3.9.7"
  }
 },
 "nbformat": 4,
 "nbformat_minor": 5
}
