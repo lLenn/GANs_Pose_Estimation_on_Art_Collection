{
 "cells": [
  {
   "cell_type": "code",
   "execution_count": 16,
   "metadata": {},
   "outputs": [],
   "source": [
    "import sys, os, cv2, torch, re\n",
    "sys.path.append(f\"{os.getcwd()}\")\n",
    "from PIL import Image\n",
    "from torchvision.transforms import transforms\n",
    "from style_transfer.networks import CycleGAN, CycleGANConfig\n",
    "from CycleGAN.data.unaligned_dataset import UnalignedDataset"
   ]
  },
  {
   "cell_type": "code",
   "execution_count": 17,
   "metadata": {},
   "outputs": [],
   "source": [
    "def train():\n",
    "    config = CycleGANConfig.create(\"style_transfer/config/cyclegan_train.yaml\", phase=\"train\")\n",
    "    \n",
    "    config.defrost()\n",
    "    config.checkpoints_dir = \"../../../Models/CycleGAN/checkpoints\"\n",
    "    config.dataroot = \"../../../Datasets/custom/BaroqueStyleTrainingSmall\"\n",
    "    config.name = \"test_baroque\"\n",
    "    config.display_freq = 1\n",
    "    config.print_freq = 1\n",
    "    config.batch_size = 1\n",
    "    config.num_threads = 1\n",
    "    config.serial_batches = False\n",
    "    config.save_no = 1\n",
    "    config.save_epoch_freq = 1\n",
    "    config.continue_train = True\n",
    "    config.display_server = \"http://localhost\"\n",
    "    config.display_env = \"test_baroque\"\n",
    "    config.freeze()\n",
    "    print(config)\n",
    "    \n",
    "    dataset = UnalignedDataset(config)\n",
    "    dataloader = torch.utils.data.DataLoader(\n",
    "        dataset,\n",
    "        batch_size=config.batch_size,\n",
    "        shuffle=not config.serial_batches,\n",
    "        num_workers=int(config.num_threads)\n",
    "    )\n",
    "    \n",
    "    network = CycleGAN(config)\n",
    "    network.train(dataloader)\n"
   ]
  },
  {
   "cell_type": "code",
   "execution_count": 30,
   "id": "709ebb01-15a7-4c7d-bc50-093ca2082cf5",
   "metadata": {},
   "outputs": [],
   "source": [
    "def transform(path, direction=\"AtoB\"):\n",
    "    config = CycleGANConfig.create(\"style_transfer/config/cyclegan_test.yaml\", phase=\"test\")\n",
    "    \n",
    "    config.defrost()\n",
    "    config.results_dir = \"../.output/results\"   # saves results here.\n",
    "    config.num_threads = 0   # test code only supports num_threads = 0\n",
    "    config.batch_size = 1    # test code only supports batch_size = 1\n",
    "    config.serial_batches = True  # disable data shuffling; comment this line if results on randomly chosen images are needed.\n",
    "    config.no_flip = True    # no flip; comment this line if results on flipped images are needed.\n",
    "    config.display_id = -1   # no visdom display\n",
    "    config.freeze()\n",
    "    \n",
    "    network = CycleGAN(config)\n",
    "    network.loadModel({\n",
    "        \"G_A\": \"../../../Models/CycleGAN/baroque/latest_net_G_A.pth\",\n",
    "        \"G_B\": \"../../../Models/CycleGAN/baroque/latest_net_G_B.pth\"\n",
    "    })\n",
    "    with open(path, 'rb') as file:\n",
    "        image = Image.open(file)\n",
    "        image.convert(\"RGB\")\n",
    "    \n",
    "    image = transforms.ToTensor()(image)\n",
    "    image = transforms.Resize(256)(image)\n",
    "    image = transforms.Normalize(mean=(0.5, 0.5, 0.5), std=(0.5, 0.5, 0.5))(image)\n",
    "    image = torch.stack((image,))\n",
    "    image = image.to(\"cuda\")\n",
    "\n",
    "    if direction == \"AtoB\":        \n",
    "        image = network.transformFromArtisticToPhotographic(image)\n",
    "    elif direction == \"BtoA\":\n",
    "        image = network.transformFromPhotographicToArtistic(image)\n",
    "    \n",
    "    image = image[0] * 0.5 + 0.5\n",
    "    image = image.detach().cpu().numpy()\n",
    "    image = image.transpose(1,2,0)\n",
    "    image = cv2.cvtColor(image, cv2.COLOR_RGB2BGR)\n",
    "    cv2.imwrite(os.path.join(config.results_dir, \"test_cyclegan.png\"), image * 255.0)"
   ]
  },
  {
   "cell_type": "code",
   "execution_count": 19,
   "id": "beaed1ec",
   "metadata": {},
   "outputs": [],
   "source": [
    "def convertFromTrainToTestModel(loadPath, savePath):\n",
    "    state_dict = torch.load(loadPath)\n",
    "    if hasattr(state_dict, \"_metadata\"):\n",
    "        for meta_key in list(state_dict._metadata):\n",
    "            match = re.fullmatch(r\"model\\.[0-9]+\\.conv_block\\.([4-7])\", meta_key)\n",
    "            if match is not None:\n",
    "                block_idx = int(meta_key[match.regs[1][0]:match.regs[1][1]])\n",
    "                if not block_idx == 4:\n",
    "                    state_dict._metadata[f\"{meta_key[0:match.regs[1][0]]}{block_idx-1}\"] = state_dict._metadata[f\"{meta_key[0:match.regs[1][0]]}{block_idx}\"]\n",
    "                del state_dict._metadata[f\"{meta_key[0:match.regs[1][0]]}{block_idx}\"]\n",
    "    for key in list(state_dict.keys()):\n",
    "        match = re.fullmatch(r\"model\\.[0-9]+\\.conv_block\\.([4-7])\\..+\", key)\n",
    "        if match is not None:\n",
    "            block_idx = int(key[match.regs[1][0]:match.regs[1][1]])\n",
    "            if not block_idx == 4:\n",
    "                state_dict[f\"{key[0:match.regs[1][0]]}{block_idx-1}{key[match.regs[1][1]:]}\"] = state_dict[f\"{key[0:match.regs[1][0]]}{block_idx}{key[match.regs[1][1]:]}\"]\n",
    "            del state_dict[f\"{key[0:match.regs[1][0]]}{block_idx}{key[match.regs[1][1]:]}\"]\n",
    "    torch.save(state_dict, savePath)"
   ]
  },
  {
   "cell_type": "code",
   "execution_count": 31,
   "id": "2cad5b97-7589-4fd8-90de-ea55cd9a778d",
   "metadata": {},
   "outputs": [
    {
     "name": "stdout",
     "output_type": "stream",
     "text": [
      "initialize network with normal\n",
      "initialize network with normal\n",
      "loading the model from ../../../Models/CycleGAN/baroque/latest_net_G_A.pth\n",
      "loading the model from ../../../Models/CycleGAN/baroque/latest_net_G_B.pth\n"
     ]
    },
    {
     "name": "stderr",
     "output_type": "stream",
     "text": [
      "c:\\Users\\tverh\\AppData\\Local\\Programs\\Python\\Python39\\lib\\site-packages\\torchvision\\transforms\\functional.py:1603: UserWarning: The default value of the antialias parameter of all the resizing transforms (Resize(), RandomResizedCrop(), etc.) will change from None to True in v0.17, in order to be consistent across the PIL and Tensor backends. To suppress this warning, directly pass antialias=True (recommended, future default), antialias=None (current default, which means False for Tensors and True for PIL), or antialias=False (only works on Tensors - PIL will still use antialiasing). This also applies if you are using the inference transforms from the models weights: update the call to weights.transforms(antialias=True).\n",
      "  warnings.warn(\n"
     ]
    }
   ],
   "source": [
    "# train()\n",
    "transform(\"../../../Datasets/custom/BaroqueStyleTraining/trainA/15_123_rembrandt_the-young-rembrandt-as-democritus-the-laughing-philosopher-1629.jpg\", \"AtoB\")\n",
    "# convertFromTrainToTestModel(\"../../../Models/CycleGAN/baroque/train/latest_net_G_A.pth\", \"../../../Models/CycleGAN/baroque/latest_net_G_A.pth\")\n",
    "# convertFromTrainToTestModel(\"../../../Models/CycleGAN/baroque/train/latest_net_G_B.pth\", \"../../../Models/CycleGAN/baroque/latest_net_G_B.pth\")"
   ]
  }
 ],
 "metadata": {
  "kernelspec": {
   "display_name": "Python 3 (ipykernel)",
   "language": "python",
   "name": "python3"
  },
  "language_info": {
   "codemirror_mode": {
    "name": "ipython",
    "version": 3
   },
   "file_extension": ".py",
   "mimetype": "text/x-python",
   "name": "python",
   "nbconvert_exporter": "python",
   "pygments_lexer": "ipython3",
   "version": "3.9.7"
  }
 },
 "nbformat": 4,
 "nbformat_minor": 5
}
